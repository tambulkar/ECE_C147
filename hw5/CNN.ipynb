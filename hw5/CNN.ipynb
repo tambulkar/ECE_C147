{
 "cells": [
  {
   "cell_type": "markdown",
   "metadata": {},
   "source": [
    "# Convolutional neural networks\n",
    "\n",
    "In this notebook, we'll put together our convolutional layers to implement a 3-layer CNN.  Then, we'll ask you to implement a CNN that can achieve > 65% validation error on CIFAR-10.\n",
    "\n",
    "CS231n has built a solid API for building these modular frameworks and training them, and we will use their very well implemented framework as opposed to \"reinventing the wheel.\"  This includes using their Solver, various utility functions, their layer structure, and their implementation of fast CNN layers.  This also includes nndl.fc_net, nndl.layers, and nndl.layer_utils.  As in prior assignments, we thank Serena Yeung & Justin Johnson for permission to use code written for the CS 231n class (cs231n.stanford.edu).  \n",
    "\n",
    "\n",
    "If you have not completed the Spatial BatchNorm Notebook, please see the following description from that notebook:\n",
    "\n",
    "Please copy and paste your prior implemented code from HW #4 to start this assignment.  If you did not correctly implement the layers in HW #4, you may collaborate with a classmate to use their layer implementations from HW #4.  You may also visit TA or Prof OH to correct your implementation.  \n",
    "\n",
    "You'll want to copy and paste from HW #4:\n",
    "    - layers.py for your FC network layers, as well as batchnorm and dropout.\n",
    "    - layer_utils.py for your combined FC network layers.\n",
    "    - optim.py for your optimizers.\n",
    "\n",
    "Be sure to place these in the `nndl/` directory so they're imported correctly.  Note, as announced in class, we will not be releasing our solutions."
   ]
  },
  {
   "cell_type": "code",
   "execution_count": 1,
   "metadata": {},
   "outputs": [],
   "source": [
    "# As usual, a bit of setup\n",
    "\n",
    "import numpy as np\n",
    "import matplotlib.pyplot as plt\n",
    "from nndl.cnn import *\n",
    "from cs231n.data_utils import get_CIFAR10_data\n",
    "from cs231n.gradient_check import eval_numerical_gradient_array, eval_numerical_gradient\n",
    "from nndl.layers import *\n",
    "from nndl.conv_layers import *\n",
    "from cs231n.fast_layers import *\n",
    "from cs231n.solver import Solver\n",
    "\n",
    "%matplotlib inline\n",
    "plt.rcParams['figure.figsize'] = (10.0, 8.0) # set default size of plots\n",
    "plt.rcParams['image.interpolation'] = 'nearest'\n",
    "plt.rcParams['image.cmap'] = 'gray'\n",
    "\n",
    "# for auto-reloading external modules\n",
    "# see http://stackoverflow.com/questions/1907993/autoreload-of-modules-in-ipython\n",
    "%load_ext autoreload\n",
    "%autoreload 2\n",
    "\n",
    "def rel_error(x, y):\n",
    "  \"\"\" returns relative error \"\"\"\n",
    "  return np.max(np.abs(x - y) / (np.maximum(1e-8, np.abs(x) + np.abs(y))))"
   ]
  },
  {
   "cell_type": "code",
   "execution_count": 2,
   "metadata": {},
   "outputs": [
    {
     "name": "stdout",
     "output_type": "stream",
     "text": [
      "X_train: (49000, 3, 32, 32) \n",
      "y_train: (49000,) \n",
      "X_val: (1000, 3, 32, 32) \n",
      "y_val: (1000,) \n",
      "X_test: (1000, 3, 32, 32) \n",
      "y_test: (1000,) \n"
     ]
    }
   ],
   "source": [
    "# Load the (preprocessed) CIFAR10 data.\n",
    "\n",
    "data = get_CIFAR10_data()\n",
    "for k in data.keys():\n",
    "  print('{}: {} '.format(k, data[k].shape))"
   ]
  },
  {
   "cell_type": "markdown",
   "metadata": {},
   "source": [
    "## Three layer CNN\n",
    "\n",
    "In this notebook, you will implement a three layer CNN.  The `ThreeLayerConvNet` class is in `nndl/cnn.py`.  You'll need to modify that code for this section, including the initialization, as well as the calculation of the loss and gradients.  You should be able to use the building blocks you have either earlier coded or that we have provided.  Be sure to use the fast layers.\n",
    "\n",
    "The architecture of this CNN will be:\n",
    "\n",
    "conv - relu - 2x2 max pool - affine - relu - affine - softmax\n",
    "\n",
    "We won't use batchnorm yet.  You've also done enough of these to know how to debug; use the cells below.\n",
    "\n",
    "Note: As we are implementing several layers CNN networks. The gradient error can be expected for the `eval_numerical_gradient()` function. If your `W1 max relative error` and `W2 max relative error` are around or below 0.01, they should be acceptable. Other errors should be less than 1e-5. "
   ]
  },
  {
   "cell_type": "code",
   "execution_count": null,
   "metadata": {},
   "outputs": [],
   "source": [
    "num_inputs = 2\n",
    "input_dim = (3, 16, 16)\n",
    "reg = 0.0\n",
    "num_classes = 10\n",
    "X = np.random.randn(num_inputs, *input_dim)\n",
    "y = np.random.randint(num_classes, size=num_inputs)\n",
    "\n",
    "model = ThreeLayerConvNet(num_filters=3, filter_size=3,\n",
    "                          input_dim=input_dim, hidden_dim=7,\n",
    "                          dtype=np.float64)\n",
    "loss, grads = model.loss(X, y)\n",
    "for param_name in sorted(grads):\n",
    "    f = lambda _: model.loss(X, y)[0]\n",
    "    param_grad_num = eval_numerical_gradient(f, model.params[param_name], verbose=False, h=1e-6)\n",
    "    e = rel_error(param_grad_num, grads[param_name])\n",
    "    print('{} max relative error: {}'.format(param_name, rel_error(param_grad_num, grads[param_name])))"
   ]
  },
  {
   "cell_type": "markdown",
   "metadata": {},
   "source": [
    "### Overfit small dataset\n",
    "\n",
    "To check your CNN implementation, let's overfit a small dataset."
   ]
  },
  {
   "cell_type": "code",
   "execution_count": null,
   "metadata": {},
   "outputs": [],
   "source": [
    "num_train = 100\n",
    "small_data = {\n",
    "  'X_train': data['X_train'][:num_train],\n",
    "  'y_train': data['y_train'][:num_train],\n",
    "  'X_val': data['X_val'],\n",
    "  'y_val': data['y_val'],\n",
    "}\n",
    "\n",
    "model = ThreeLayerConvNet(weight_scale=1e-2)\n",
    "\n",
    "solver = Solver(model, small_data,\n",
    "                num_epochs=10, batch_size=50,\n",
    "                update_rule='adam',\n",
    "                optim_config={\n",
    "                  'learning_rate': 1e-3,\n",
    "                },\n",
    "                verbose=True, print_every=1)\n",
    "solver.train()"
   ]
  },
  {
   "cell_type": "code",
   "execution_count": null,
   "metadata": {},
   "outputs": [],
   "source": [
    "plt.subplot(2, 1, 1)\n",
    "plt.plot(solver.loss_history, 'o')\n",
    "plt.xlabel('iteration')\n",
    "plt.ylabel('loss')\n",
    "\n",
    "plt.subplot(2, 1, 2)\n",
    "plt.plot(solver.train_acc_history, '-o')\n",
    "plt.plot(solver.val_acc_history, '-o')\n",
    "plt.legend(['train', 'val'], loc='upper left')\n",
    "plt.xlabel('epoch')\n",
    "plt.ylabel('accuracy')\n",
    "plt.show()"
   ]
  },
  {
   "cell_type": "markdown",
   "metadata": {},
   "source": [
    "## Train the network\n",
    "\n",
    "Now we train the 3 layer CNN on CIFAR-10 and assess its accuracy."
   ]
  },
  {
   "cell_type": "code",
   "execution_count": null,
   "metadata": {
    "scrolled": false
   },
   "outputs": [],
   "source": [
    "model = ThreeLayerConvNet(weight_scale=0.001, hidden_dim=500, reg=0.001)\n",
    "\n",
    "solver = Solver(model, data,\n",
    "                num_epochs=1, batch_size=50,\n",
    "                update_rule='adam',\n",
    "                optim_config={\n",
    "                  'learning_rate': 1e-3,\n",
    "                },\n",
    "                verbose=True, print_every=20)\n",
    "solver.train()"
   ]
  },
  {
   "cell_type": "markdown",
   "metadata": {},
   "source": [
    "# Get > 65% validation accuracy on CIFAR-10.\n",
    "\n",
    "In the last part of the assignment, we'll now ask you to train a CNN to get better than 65% validation accuracy on CIFAR-10.\n",
    "\n",
    "### Things you should try:\n",
    "- Filter size: Above we used 7x7; but VGGNet and onwards showed stacks of 3x3 filters are good.  \n",
    "- Number of filters: Above we used 32 filters. Do more or fewer do better?\n",
    "- Batch normalization: Try adding spatial batch normalization after convolution layers and vanilla batch normalization aafter affine layers. Do your networks train faster?\n",
    "- Network architecture: Can a deeper CNN do better?  Consider these architectures:\n",
    "    - [conv-relu-pool]xN - conv - relu - [affine]xM - [softmax or SVM]\n",
    "    - [conv-relu-pool]XN - [affine]XM - [softmax or SVM]\n",
    "    - [conv-relu-conv-relu-pool]xN - [affine]xM - [softmax or SVM]\n",
    "\n",
    "### Tips for training\n",
    "For each network architecture that you try, you should tune the learning rate and regularization strength. When doing this there are a couple important things to keep in mind:\n",
    "\n",
    "- If the parameters are working well, you should see improvement within a few hundred iterations\n",
    "- Remember the coarse-to-fine approach for hyperparameter tuning: start by testing a large range of hyperparameters for just a few training iterations to find the combinations of parameters that are working at all.\n",
    "- Once you have found some sets of parameters that seem to work, search more finely around these parameters. You may need to train for more epochs."
   ]
  },
  {
   "cell_type": "code",
   "execution_count": null,
   "metadata": {
    "scrolled": false
   },
   "outputs": [
    {
     "name": "stdout",
     "output_type": "stream",
     "text": [
      "(Iteration 1 / 9800) loss: 2.554298\n",
      "(Epoch 0 / 10) train acc: 0.191000; val_acc: 0.188000\n",
      "(Iteration 101 / 9800) loss: 1.696782\n",
      "(Iteration 201 / 9800) loss: 1.561632\n",
      "(Iteration 301 / 9800) loss: 1.421781\n",
      "(Iteration 401 / 9800) loss: 1.296039\n",
      "(Iteration 501 / 9800) loss: 1.224853\n",
      "(Iteration 601 / 9800) loss: 1.431857\n",
      "(Iteration 701 / 9800) loss: 1.373697\n",
      "(Iteration 801 / 9800) loss: 1.265976\n",
      "(Iteration 901 / 9800) loss: 1.360399\n",
      "(Epoch 1 / 10) train acc: 0.621000; val_acc: 0.559000\n",
      "(Iteration 1001 / 9800) loss: 1.151324\n",
      "(Iteration 1101 / 9800) loss: 1.334211\n",
      "(Iteration 1201 / 9800) loss: 1.325632\n",
      "(Iteration 1301 / 9800) loss: 1.520138\n",
      "(Iteration 1401 / 9800) loss: 1.377522\n",
      "(Iteration 1501 / 9800) loss: 1.126699\n",
      "(Iteration 1601 / 9800) loss: 1.086022\n",
      "(Iteration 1701 / 9800) loss: 0.999588\n",
      "(Iteration 1801 / 9800) loss: 1.133539\n",
      "(Iteration 1901 / 9800) loss: 0.841272\n",
      "(Epoch 2 / 10) train acc: 0.609000; val_acc: 0.579000\n",
      "(Iteration 2001 / 9800) loss: 0.852617\n",
      "(Iteration 2101 / 9800) loss: 1.217847\n",
      "(Iteration 2201 / 9800) loss: 1.287319\n",
      "(Iteration 2301 / 9800) loss: 1.410400\n",
      "(Iteration 2401 / 9800) loss: 1.044951\n",
      "(Iteration 2501 / 9800) loss: 0.872303\n",
      "(Iteration 2601 / 9800) loss: 1.180536\n",
      "(Iteration 2701 / 9800) loss: 0.876554\n",
      "(Iteration 2801 / 9800) loss: 1.073418\n",
      "(Iteration 2901 / 9800) loss: 0.916041\n",
      "(Epoch 3 / 10) train acc: 0.666000; val_acc: 0.583000\n",
      "(Iteration 3001 / 9800) loss: 0.832457\n",
      "(Iteration 3101 / 9800) loss: 1.087507\n",
      "(Iteration 3201 / 9800) loss: 1.011499\n",
      "(Iteration 3301 / 9800) loss: 1.191755\n",
      "(Iteration 3401 / 9800) loss: 1.297588\n",
      "(Iteration 3501 / 9800) loss: 1.109875\n",
      "(Iteration 3601 / 9800) loss: 1.058029\n",
      "(Iteration 3701 / 9800) loss: 1.115168\n",
      "(Iteration 3801 / 9800) loss: 1.050343\n",
      "(Iteration 3901 / 9800) loss: 0.810271\n",
      "(Epoch 4 / 10) train acc: 0.662000; val_acc: 0.607000\n",
      "(Iteration 4001 / 9800) loss: 1.201376\n",
      "(Iteration 4101 / 9800) loss: 1.159125\n",
      "(Iteration 4201 / 9800) loss: 0.906950\n",
      "(Iteration 4301 / 9800) loss: 1.425803\n",
      "(Iteration 4401 / 9800) loss: 0.871367\n",
      "(Iteration 4501 / 9800) loss: 0.801536\n",
      "(Iteration 4601 / 9800) loss: 1.159920\n",
      "(Iteration 4701 / 9800) loss: 0.932421\n",
      "(Iteration 4801 / 9800) loss: 1.188373\n",
      "(Epoch 5 / 10) train acc: 0.706000; val_acc: 0.625000\n",
      "(Iteration 4901 / 9800) loss: 1.118532\n",
      "(Iteration 5001 / 9800) loss: 1.025578\n",
      "(Iteration 5101 / 9800) loss: 2.186227\n",
      "(Iteration 5201 / 9800) loss: 1.423240\n",
      "(Iteration 5301 / 9800) loss: 0.865230\n",
      "(Iteration 5401 / 9800) loss: 1.032554\n",
      "(Iteration 5501 / 9800) loss: 0.877204\n",
      "(Iteration 5601 / 9800) loss: 0.956096\n",
      "(Iteration 5701 / 9800) loss: 1.324381\n",
      "(Iteration 5801 / 9800) loss: 1.016059\n",
      "(Epoch 6 / 10) train acc: 0.657000; val_acc: 0.614000\n",
      "(Iteration 5901 / 9800) loss: 0.741090\n",
      "(Iteration 6001 / 9800) loss: 0.824416\n",
      "(Iteration 6101 / 9800) loss: 0.972654\n",
      "(Iteration 6201 / 9800) loss: 1.245899\n",
      "(Iteration 6301 / 9800) loss: 1.112110\n",
      "(Iteration 6401 / 9800) loss: 1.119808\n",
      "(Iteration 6501 / 9800) loss: 1.014950\n",
      "(Iteration 6601 / 9800) loss: 0.879719\n",
      "(Iteration 6701 / 9800) loss: 0.849032\n"
     ]
    }
   ],
   "source": [
    "# ================================================================ #\n",
    "# YOUR CODE HERE:\n",
    "#   Implement a CNN to achieve greater than 65% validation accuracy\n",
    "#   on CIFAR-10.\n",
    "# ================================================================ #\n",
    "model = ThreeLayerConvNet(\n",
    "    weight_scale=0.001,\n",
    "    hidden_dim=500,\n",
    "    reg=0.001,\n",
    "    filter_size=3,\n",
    "    num_filters=64,\n",
    "    use_batchnorm=True\n",
    ")\n",
    "\n",
    "solver = Solver(model, data,\n",
    "                num_epochs=10, batch_size=50,\n",
    "                update_rule='adam',\n",
    "                optim_config={\n",
    "                  'learning_rate': 1e-3,\n",
    "                },\n",
    "                lr_decay = 0.99\n",
    "                verbose=True, print_every=100)\n",
    "solver.train()\n",
    "# ================================================================ #\n",
    "# END YOUR CODE HERE\n",
    "# ================================================================ #\n"
   ]
  },
  {
   "cell_type": "code",
   "execution_count": null,
   "metadata": {},
   "outputs": [],
   "source": [
    "plt.subplot(2, 1, 1)\n",
    "plt.plot(solver.loss_history, 'o')\n",
    "plt.xlabel('iteration')\n",
    "plt.ylabel('loss')\n",
    "\n",
    "plt.subplot(2, 1, 2)\n",
    "plt.plot(solver.train_acc_history, '-o')\n",
    "plt.plot(solver.val_acc_history, '-o')\n",
    "plt.legend(['train', 'val'], loc='upper left')\n",
    "plt.xlabel('epoch')\n",
    "plt.ylabel('accuracy')\n",
    "plt.show()"
   ]
  }
 ],
 "metadata": {
  "kernelspec": {
   "display_name": "Python 3",
   "language": "python",
   "name": "python3"
  },
  "language_info": {
   "codemirror_mode": {
    "name": "ipython",
    "version": 3
   },
   "file_extension": ".py",
   "mimetype": "text/x-python",
   "name": "python",
   "nbconvert_exporter": "python",
   "pygments_lexer": "ipython3",
   "version": "3.8.5"
  }
 },
 "nbformat": 4,
 "nbformat_minor": 2
}
